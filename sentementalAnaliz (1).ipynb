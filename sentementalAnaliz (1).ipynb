{
  "nbformat": 4,
  "nbformat_minor": 0,
  "metadata": {
    "colab": {
      "provenance": []
    },
    "kernelspec": {
      "name": "python3",
      "display_name": "Python 3"
    },
    "language_info": {
      "name": "python"
    }
  },
  "cells": [
    {
      "cell_type": "code",
      "execution_count": null,
      "metadata": {
        "colab": {
          "base_uri": "https://localhost:8080/"
        },
        "id": "7aTz_iJxRKZd",
        "outputId": "e676a544-bbbf-41d6-eef3-f6a8559b6854"
      },
      "outputs": [
        {
          "output_type": "stream",
          "name": "stdout",
          "text": [
            "Mounted at /content/drive\n"
          ]
        }
      ],
      "source": [
        "\n",
        "from google.colab import drive\n",
        "drive.mount('/content/drive')\n"
      ]
    },
    {
      "cell_type": "markdown",
      "source": [
        "This code is used to mount Google Drive while working in the Google Colab environment. By mounting Google Drive to the \"/content/drive\" directory, it allows access to files and data stored on Drive. This makes it easy to access external data from within the Colab notebook."
      ],
      "metadata": {
        "id": "Vn11Uql5m7cX"
      }
    },
    {
      "cell_type": "markdown",
      "source": [],
      "metadata": {
        "id": "C1U54CGyky0z"
      }
    },
    {
      "cell_type": "code",
      "source": [
        "# Veri işleme ve modeller için gerekli kütüphaneler\n",
        "import pandas as pd\n",
        "import nltk\n",
        "from nltk.corpus import stopwords\n",
        "from sklearn.model_selection import train_test_split\n",
        "from sklearn.preprocessing import LabelEncoder\n",
        "from sklearn.metrics import accuracy_score, classification_report\n",
        "import re\n",
        "\n",
        "# Tensorflow ve transformers kütüphaneleri\n",
        "import tensorflow as tf\n",
        "from transformers import BertTokenizer, TFBertForSequenceClassification\n",
        "from tensorflow.keras.models import Sequential\n",
        "from tensorflow.keras.layers import Embedding, LSTM, Dense, Dropout\n",
        "from tensorflow.keras.preprocessing.text import Tokenizer\n",
        "from tensorflow.keras.preprocessing.sequence import pad_sequences\n"
      ],
      "metadata": {
        "id": "vUrIkqQUYhHK"
      },
      "execution_count": null,
      "outputs": []
    },
    {
      "cell_type": "markdown",
      "source": [
        "This code block imports essential libraries for text processing, data analysis, machine learning, and deep learning model development:  \n",
        "\n",
        "- **`pandas`**: For data manipulation and analysis.  \n",
        "- **`nltk`**: Provides tools for natural language processing (e.g., stopword removal).  \n",
        "- **`sklearn`**: For data splitting, label encoding, and model evaluation.  \n",
        "- **`re`**: For text cleaning using regular expressions.  \n",
        "- **`tensorflow` and `transformers`**: For deep learning and BERT-based models.  \n",
        "- **Keras**: To build text sequencing and LSTM-based models.  \n",
        "\n",
        "These libraries are fundamental for analyzing and classifying text data effectively.\n",
        "\n"
      ],
      "metadata": {
        "id": "7sevcEFanD-Y"
      }
    },
    {
      "cell_type": "code",
      "source": [
        "# CSV dosyasını yükleyin\n",
        "df = pd.read_csv('/content/drive/My Drive/e-ticaret_urun_yorumlari.csv', sep=';')\n",
        "\n",
        "\n",
        "# Veriyi kontrol etme\n",
        "df.head()\n"
      ],
      "metadata": {
        "colab": {
          "base_uri": "https://localhost:8080/",
          "height": 206
        },
        "id": "JlCcaORSYjUL",
        "outputId": "fce363e9-2b81-4eca-b4aa-d0061e530b79"
      },
      "execution_count": null,
      "outputs": [
        {
          "output_type": "execute_result",
          "data": {
            "text/plain": [
              "                                               Metin  Durum\n",
              "0                              evet anlatıldığı gibi      1\n",
              "1  Daha öncede almıştım bu cihazdan ense ve sakal...      1\n",
              "2  Ürün gayet başarılı sakal kesmede başlık sayıs...      1\n",
              "3  Daha öncede aynısını almıştım çok güzel ve kal...      1\n",
              "4  Erkek kuaförüyüm ense ve sıfır sakal traşı içi...      1"
            ],
            "text/html": [
              "\n",
              "  <div id=\"df-20e8a9e0-7deb-4f58-8816-3903f7994ebd\" class=\"colab-df-container\">\n",
              "    <div>\n",
              "<style scoped>\n",
              "    .dataframe tbody tr th:only-of-type {\n",
              "        vertical-align: middle;\n",
              "    }\n",
              "\n",
              "    .dataframe tbody tr th {\n",
              "        vertical-align: top;\n",
              "    }\n",
              "\n",
              "    .dataframe thead th {\n",
              "        text-align: right;\n",
              "    }\n",
              "</style>\n",
              "<table border=\"1\" class=\"dataframe\">\n",
              "  <thead>\n",
              "    <tr style=\"text-align: right;\">\n",
              "      <th></th>\n",
              "      <th>Metin</th>\n",
              "      <th>Durum</th>\n",
              "    </tr>\n",
              "  </thead>\n",
              "  <tbody>\n",
              "    <tr>\n",
              "      <th>0</th>\n",
              "      <td>evet anlatıldığı gibi</td>\n",
              "      <td>1</td>\n",
              "    </tr>\n",
              "    <tr>\n",
              "      <th>1</th>\n",
              "      <td>Daha öncede almıştım bu cihazdan ense ve sakal...</td>\n",
              "      <td>1</td>\n",
              "    </tr>\n",
              "    <tr>\n",
              "      <th>2</th>\n",
              "      <td>Ürün gayet başarılı sakal kesmede başlık sayıs...</td>\n",
              "      <td>1</td>\n",
              "    </tr>\n",
              "    <tr>\n",
              "      <th>3</th>\n",
              "      <td>Daha öncede aynısını almıştım çok güzel ve kal...</td>\n",
              "      <td>1</td>\n",
              "    </tr>\n",
              "    <tr>\n",
              "      <th>4</th>\n",
              "      <td>Erkek kuaförüyüm ense ve sıfır sakal traşı içi...</td>\n",
              "      <td>1</td>\n",
              "    </tr>\n",
              "  </tbody>\n",
              "</table>\n",
              "</div>\n",
              "    <div class=\"colab-df-buttons\">\n",
              "\n",
              "  <div class=\"colab-df-container\">\n",
              "    <button class=\"colab-df-convert\" onclick=\"convertToInteractive('df-20e8a9e0-7deb-4f58-8816-3903f7994ebd')\"\n",
              "            title=\"Convert this dataframe to an interactive table.\"\n",
              "            style=\"display:none;\">\n",
              "\n",
              "  <svg xmlns=\"http://www.w3.org/2000/svg\" height=\"24px\" viewBox=\"0 -960 960 960\">\n",
              "    <path d=\"M120-120v-720h720v720H120Zm60-500h600v-160H180v160Zm220 220h160v-160H400v160Zm0 220h160v-160H400v160ZM180-400h160v-160H180v160Zm440 0h160v-160H620v160ZM180-180h160v-160H180v160Zm440 0h160v-160H620v160Z\"/>\n",
              "  </svg>\n",
              "    </button>\n",
              "\n",
              "  <style>\n",
              "    .colab-df-container {\n",
              "      display:flex;\n",
              "      gap: 12px;\n",
              "    }\n",
              "\n",
              "    .colab-df-convert {\n",
              "      background-color: #E8F0FE;\n",
              "      border: none;\n",
              "      border-radius: 50%;\n",
              "      cursor: pointer;\n",
              "      display: none;\n",
              "      fill: #1967D2;\n",
              "      height: 32px;\n",
              "      padding: 0 0 0 0;\n",
              "      width: 32px;\n",
              "    }\n",
              "\n",
              "    .colab-df-convert:hover {\n",
              "      background-color: #E2EBFA;\n",
              "      box-shadow: 0px 1px 2px rgba(60, 64, 67, 0.3), 0px 1px 3px 1px rgba(60, 64, 67, 0.15);\n",
              "      fill: #174EA6;\n",
              "    }\n",
              "\n",
              "    .colab-df-buttons div {\n",
              "      margin-bottom: 4px;\n",
              "    }\n",
              "\n",
              "    [theme=dark] .colab-df-convert {\n",
              "      background-color: #3B4455;\n",
              "      fill: #D2E3FC;\n",
              "    }\n",
              "\n",
              "    [theme=dark] .colab-df-convert:hover {\n",
              "      background-color: #434B5C;\n",
              "      box-shadow: 0px 1px 3px 1px rgba(0, 0, 0, 0.15);\n",
              "      filter: drop-shadow(0px 1px 2px rgba(0, 0, 0, 0.3));\n",
              "      fill: #FFFFFF;\n",
              "    }\n",
              "  </style>\n",
              "\n",
              "    <script>\n",
              "      const buttonEl =\n",
              "        document.querySelector('#df-20e8a9e0-7deb-4f58-8816-3903f7994ebd button.colab-df-convert');\n",
              "      buttonEl.style.display =\n",
              "        google.colab.kernel.accessAllowed ? 'block' : 'none';\n",
              "\n",
              "      async function convertToInteractive(key) {\n",
              "        const element = document.querySelector('#df-20e8a9e0-7deb-4f58-8816-3903f7994ebd');\n",
              "        const dataTable =\n",
              "          await google.colab.kernel.invokeFunction('convertToInteractive',\n",
              "                                                    [key], {});\n",
              "        if (!dataTable) return;\n",
              "\n",
              "        const docLinkHtml = 'Like what you see? Visit the ' +\n",
              "          '<a target=\"_blank\" href=https://colab.research.google.com/notebooks/data_table.ipynb>data table notebook</a>'\n",
              "          + ' to learn more about interactive tables.';\n",
              "        element.innerHTML = '';\n",
              "        dataTable['output_type'] = 'display_data';\n",
              "        await google.colab.output.renderOutput(dataTable, element);\n",
              "        const docLink = document.createElement('div');\n",
              "        docLink.innerHTML = docLinkHtml;\n",
              "        element.appendChild(docLink);\n",
              "      }\n",
              "    </script>\n",
              "  </div>\n",
              "\n",
              "\n",
              "<div id=\"df-4eac4c7a-007b-46c0-9bd9-1f0f538ff56b\">\n",
              "  <button class=\"colab-df-quickchart\" onclick=\"quickchart('df-4eac4c7a-007b-46c0-9bd9-1f0f538ff56b')\"\n",
              "            title=\"Suggest charts\"\n",
              "            style=\"display:none;\">\n",
              "\n",
              "<svg xmlns=\"http://www.w3.org/2000/svg\" height=\"24px\"viewBox=\"0 0 24 24\"\n",
              "     width=\"24px\">\n",
              "    <g>\n",
              "        <path d=\"M19 3H5c-1.1 0-2 .9-2 2v14c0 1.1.9 2 2 2h14c1.1 0 2-.9 2-2V5c0-1.1-.9-2-2-2zM9 17H7v-7h2v7zm4 0h-2V7h2v10zm4 0h-2v-4h2v4z\"/>\n",
              "    </g>\n",
              "</svg>\n",
              "  </button>\n",
              "\n",
              "<style>\n",
              "  .colab-df-quickchart {\n",
              "      --bg-color: #E8F0FE;\n",
              "      --fill-color: #1967D2;\n",
              "      --hover-bg-color: #E2EBFA;\n",
              "      --hover-fill-color: #174EA6;\n",
              "      --disabled-fill-color: #AAA;\n",
              "      --disabled-bg-color: #DDD;\n",
              "  }\n",
              "\n",
              "  [theme=dark] .colab-df-quickchart {\n",
              "      --bg-color: #3B4455;\n",
              "      --fill-color: #D2E3FC;\n",
              "      --hover-bg-color: #434B5C;\n",
              "      --hover-fill-color: #FFFFFF;\n",
              "      --disabled-bg-color: #3B4455;\n",
              "      --disabled-fill-color: #666;\n",
              "  }\n",
              "\n",
              "  .colab-df-quickchart {\n",
              "    background-color: var(--bg-color);\n",
              "    border: none;\n",
              "    border-radius: 50%;\n",
              "    cursor: pointer;\n",
              "    display: none;\n",
              "    fill: var(--fill-color);\n",
              "    height: 32px;\n",
              "    padding: 0;\n",
              "    width: 32px;\n",
              "  }\n",
              "\n",
              "  .colab-df-quickchart:hover {\n",
              "    background-color: var(--hover-bg-color);\n",
              "    box-shadow: 0 1px 2px rgba(60, 64, 67, 0.3), 0 1px 3px 1px rgba(60, 64, 67, 0.15);\n",
              "    fill: var(--button-hover-fill-color);\n",
              "  }\n",
              "\n",
              "  .colab-df-quickchart-complete:disabled,\n",
              "  .colab-df-quickchart-complete:disabled:hover {\n",
              "    background-color: var(--disabled-bg-color);\n",
              "    fill: var(--disabled-fill-color);\n",
              "    box-shadow: none;\n",
              "  }\n",
              "\n",
              "  .colab-df-spinner {\n",
              "    border: 2px solid var(--fill-color);\n",
              "    border-color: transparent;\n",
              "    border-bottom-color: var(--fill-color);\n",
              "    animation:\n",
              "      spin 1s steps(1) infinite;\n",
              "  }\n",
              "\n",
              "  @keyframes spin {\n",
              "    0% {\n",
              "      border-color: transparent;\n",
              "      border-bottom-color: var(--fill-color);\n",
              "      border-left-color: var(--fill-color);\n",
              "    }\n",
              "    20% {\n",
              "      border-color: transparent;\n",
              "      border-left-color: var(--fill-color);\n",
              "      border-top-color: var(--fill-color);\n",
              "    }\n",
              "    30% {\n",
              "      border-color: transparent;\n",
              "      border-left-color: var(--fill-color);\n",
              "      border-top-color: var(--fill-color);\n",
              "      border-right-color: var(--fill-color);\n",
              "    }\n",
              "    40% {\n",
              "      border-color: transparent;\n",
              "      border-right-color: var(--fill-color);\n",
              "      border-top-color: var(--fill-color);\n",
              "    }\n",
              "    60% {\n",
              "      border-color: transparent;\n",
              "      border-right-color: var(--fill-color);\n",
              "    }\n",
              "    80% {\n",
              "      border-color: transparent;\n",
              "      border-right-color: var(--fill-color);\n",
              "      border-bottom-color: var(--fill-color);\n",
              "    }\n",
              "    90% {\n",
              "      border-color: transparent;\n",
              "      border-bottom-color: var(--fill-color);\n",
              "    }\n",
              "  }\n",
              "</style>\n",
              "\n",
              "  <script>\n",
              "    async function quickchart(key) {\n",
              "      const quickchartButtonEl =\n",
              "        document.querySelector('#' + key + ' button');\n",
              "      quickchartButtonEl.disabled = true;  // To prevent multiple clicks.\n",
              "      quickchartButtonEl.classList.add('colab-df-spinner');\n",
              "      try {\n",
              "        const charts = await google.colab.kernel.invokeFunction(\n",
              "            'suggestCharts', [key], {});\n",
              "      } catch (error) {\n",
              "        console.error('Error during call to suggestCharts:', error);\n",
              "      }\n",
              "      quickchartButtonEl.classList.remove('colab-df-spinner');\n",
              "      quickchartButtonEl.classList.add('colab-df-quickchart-complete');\n",
              "    }\n",
              "    (() => {\n",
              "      let quickchartButtonEl =\n",
              "        document.querySelector('#df-4eac4c7a-007b-46c0-9bd9-1f0f538ff56b button');\n",
              "      quickchartButtonEl.style.display =\n",
              "        google.colab.kernel.accessAllowed ? 'block' : 'none';\n",
              "    })();\n",
              "  </script>\n",
              "</div>\n",
              "\n",
              "    </div>\n",
              "  </div>\n"
            ],
            "application/vnd.google.colaboratory.intrinsic+json": {
              "type": "dataframe",
              "variable_name": "df",
              "summary": "{\n  \"name\": \"df\",\n  \"rows\": 15170,\n  \"fields\": [\n    {\n      \"column\": \"Metin\",\n      \"properties\": {\n        \"dtype\": \"string\",\n        \"num_unique_values\": 13519,\n        \"samples\": [\n          \"\\u00dcr\\u00fcn g\\u00f6rsel olarak g\\u00fczel g\\u00f6r\\u00fcn\\u00fcyor fakat ayaklar\\u0131 yamuk lamba ayakta zor duruyor. U\\u011fra\\u015fmamak i\\u00e7in geri yollamad\\u0131m. \\u00dcretici bunu l\\u00fctfen dikkate als\\u0131n.\",\n          \"o\\u011flum \\u00e7ok sevdi bende tabiki????????\",\n          \"Hi\\u00e7 ho\\u015fuma gitmedi \\u00e7antan\\u0131n yan\\u0131nda c\\u00fczdan\\u0131 \\u00e7\\u0131kmad\\u0131 ucuz naylon bir \\u00e7anta hi\\u00e7 tacsiye etmem\"\n        ],\n        \"semantic_type\": \"\",\n        \"description\": \"\"\n      }\n    },\n    {\n      \"column\": \"Durum\",\n      \"properties\": {\n        \"dtype\": \"number\",\n        \"std\": 0,\n        \"min\": 0,\n        \"max\": 2,\n        \"num_unique_values\": 3,\n        \"samples\": [\n          1,\n          0,\n          2\n        ],\n        \"semantic_type\": \"\",\n        \"description\": \"\"\n      }\n    }\n  ]\n}"
            }
          },
          "metadata": {},
          "execution_count": 31
        }
      ]
    },
    {
      "cell_type": "markdown",
      "source": [
        "This code loads the specified CSV file and reads it into a pandas DataFrame. The **`df.head()`** command displays the first 5 rows of the dataset. The **Metin** column contains the product reviews, while the **Durum** column holds the labels for each review (e.g., `1` indicates a positive sentiment).\n"
      ],
      "metadata": {
        "id": "uwA526CKnnyn"
      }
    },
    {
      "cell_type": "code",
      "source": [
        "# Stopwords'leri indir\n",
        "nltk.download('stopwords')\n",
        "sw = stopwords.words('turkish')\n",
        "\n",
        "# Metni küçük harfe çevirme, noktalama işaretlerini temizleme ve stopwords çıkarma\n",
        "def preprocess_text(text):\n",
        "    text = text.lower()  # Küçük harfe çevirme\n",
        "    text = re.sub(r'[^\\w\\s]', '', text)  # Noktalama işaretlerini kaldırma\n",
        "    text = re.sub(r'\\d+', '', text)  # Sayıları temizleme\n",
        "    text = ' '.join([word for word in text.split() if word not in sw])  # Stopwords kaldırma\n",
        "    return text\n",
        "\n",
        "df['Yeni Metin'] = df['Metin'].apply(preprocess_text)\n",
        "\n",
        "# Yine de metinlere kök kelime uygulamak istiyorsanız bu adımı kullanabilirsiniz:\n",
        "import snowballstemmer\n",
        "stemmer = snowballstemmer.stemmer('turkish')\n",
        "df[\"Kök Metin\"] = df[\"Yeni Metin\"].apply(lambda x: \" \".join([stemmer.stemWord(word) for word in x.split()]))\n"
      ],
      "metadata": {
        "colab": {
          "base_uri": "https://localhost:8080/"
        },
        "id": "n-0qBriXYu2K",
        "outputId": "a2fed758-1464-4eb7-8517-52d3f9b3b6bb"
      },
      "execution_count": null,
      "outputs": [
        {
          "output_type": "stream",
          "name": "stderr",
          "text": [
            "[nltk_data] Downloading package stopwords to /root/nltk_data...\n",
            "[nltk_data]   Package stopwords is already up-to-date!\n"
          ]
        }
      ]
    },
    {
      "cell_type": "markdown",
      "source": [
        "The code processes text data by:\n",
        "\n",
        "1. **Converting to lowercase** and **removing punctuation**.\n",
        "2. **Removing numbers**.\n",
        "3. **Removing stopwords** (irrelevant words).\n",
        "4. **Stemming** (reducing words to their root form using a stemmer).\n",
        "\n",
        "The result is a cleaned and root-processed version of each text, making it more efficient for text analysis."
      ],
      "metadata": {
        "id": "DXsbnQiwpB9W"
      }
    },
    {
      "cell_type": "code",
      "source": [
        "# Etiketleri sayısal değerlere dönüştürme (Label Encoding)\n",
        "y = LabelEncoder().fit_transform(df[\"Durum\"])\n",
        "\n",
        "# Eğitim ve test setine ayırma\n",
        "X_train, X_test, y_train, y_test = train_test_split(df[\"Kök Metin\"], y, test_size=0.3, random_state=42)\n"
      ],
      "metadata": {
        "id": "7ZMHuejAYw4-"
      },
      "execution_count": null,
      "outputs": []
    },
    {
      "cell_type": "markdown",
      "source": [
        "This code performs the following:\n",
        "\n",
        "1. **Label Encoding:** Converts categorical labels in the \"Durum\" column to numerical values using `LabelEncoder`.\n",
        "2. **Train-Test Split:** Splits the data into 70% training and 30% test sets for both the features (`X`) and labels (`y`).\n",
        "\n",
        "The result is the creation of `X_train`, `X_test`, `y_train`, and `y_test`."
      ],
      "metadata": {
        "id": "nx9kFFTBpc9U"
      }
    },
    {
      "cell_type": "code",
      "source": [
        "# Tokenizer ile metin verisini sayısal verilere dönüştürme\n",
        "tokenizer = Tokenizer(num_words=10000)  # 10.000 en sık geçen kelimeyi kullan\n",
        "tokenizer.fit_on_texts(X_train)\n",
        "\n",
        "# Eğitim ve test verilerini sayısal verilere dönüştürme\n",
        "X_train_seq = pad_sequences(tokenizer.texts_to_sequences(X_train), padding='post', maxlen=100)\n",
        "X_test_seq = pad_sequences(tokenizer.texts_to_sequences(X_test), padding='post', maxlen=100)\n"
      ],
      "metadata": {
        "id": "vTvPyY1JZDfp"
      },
      "execution_count": null,
      "outputs": []
    },
    {
      "cell_type": "markdown",
      "source": [
        "This code does the following:\n",
        "\n",
        "1. **Tokenizer Initialization:**  \n",
        "   `Tokenizer(num_words=10000)` initializes a tokenizer that will consider the top 10,000 most frequent words from the training data.\n",
        "\n",
        "2. **Fitting the Tokenizer:**  \n",
        "   `tokenizer.fit_on_texts(X_train)` fits the tokenizer on the training data (`X_train`), building a vocabulary of the 10,000 most frequent words.\n",
        "\n",
        "3. **Text to Sequences:**  \n",
        "   `tokenizer.texts_to_sequences(X_train)` and `tokenizer.texts_to_sequences(X_test)` convert the training and test texts into sequences of integers based on the tokenizer's vocabulary.\n",
        "\n",
        "4. **Padding Sequences:**  \n",
        "   `pad_sequences(..., padding='post', maxlen=100)` ensures all sequences have the same length (100), padding shorter sequences at the end if necessary.\n",
        "\n",
        "The result is `X_train_seq` and `X_test_seq`, which are the padded, integer-encoded representations of the training and test texts."
      ],
      "metadata": {
        "id": "wFJX0z1-pnH0"
      }
    },
    {
      "cell_type": "code",
      "source": [
        "# LSTM modelini kurma\n",
        "model_lstm = Sequential([\n",
        "    Embedding(input_dim=10000, output_dim=128, input_length=100),  # Embedding katmanı\n",
        "    LSTM(128),  # LSTM katmanı\n",
        "    Dropout(0.2),  # Dropout regularizasyon\n",
        "    Dense(3, activation='softmax')  # Çıkış katmanı (3 sınıf)\n",
        "])\n",
        "\n",
        "# Modeli derleme\n",
        "model_lstm.compile(loss='sparse_categorical_crossentropy', optimizer='adam', metrics=['accuracy'])\n",
        "\n",
        "# Modeli eğitim seti ile eğitme\n",
        "model_lstm.fit(X_train_seq, y_train, epochs=5, batch_size=64, validation_data=(X_test_seq, y_test))\n"
      ],
      "metadata": {
        "colab": {
          "base_uri": "https://localhost:8080/"
        },
        "id": "2bbmlHMTZGkC",
        "outputId": "76a83fcd-af63-42c7-f04b-df20499d67ff"
      },
      "execution_count": null,
      "outputs": [
        {
          "output_type": "stream",
          "name": "stderr",
          "text": [
            "/usr/local/lib/python3.10/dist-packages/keras/src/layers/core/embedding.py:90: UserWarning: Argument `input_length` is deprecated. Just remove it.\n",
            "  warnings.warn(\n"
          ]
        },
        {
          "output_type": "stream",
          "name": "stdout",
          "text": [
            "Epoch 1/5\n",
            "\u001b[1m166/166\u001b[0m \u001b[32m━━━━━━━━━━━━━━━━━━━━\u001b[0m\u001b[37m\u001b[0m \u001b[1m51s\u001b[0m 286ms/step - accuracy: 0.4613 - loss: 0.9588 - val_accuracy: 0.4507 - val_loss: 0.9429\n",
            "Epoch 2/5\n",
            "\u001b[1m166/166\u001b[0m \u001b[32m━━━━━━━━━━━━━━━━━━━━\u001b[0m\u001b[37m\u001b[0m \u001b[1m44s\u001b[0m 267ms/step - accuracy: 0.4585 - loss: 0.9384 - val_accuracy: 0.4537 - val_loss: 0.9453\n",
            "Epoch 3/5\n",
            "\u001b[1m166/166\u001b[0m \u001b[32m━━━━━━━━━━━━━━━━━━━━\u001b[0m\u001b[37m\u001b[0m \u001b[1m84s\u001b[0m 277ms/step - accuracy: 0.4540 - loss: 0.9343 - val_accuracy: 0.4507 - val_loss: 0.9433\n",
            "Epoch 4/5\n",
            "\u001b[1m166/166\u001b[0m \u001b[32m━━━━━━━━━━━━━━━━━━━━\u001b[0m\u001b[37m\u001b[0m \u001b[1m79s\u001b[0m 257ms/step - accuracy: 0.4600 - loss: 0.9346 - val_accuracy: 0.4537 - val_loss: 0.9440\n",
            "Epoch 5/5\n",
            "\u001b[1m166/166\u001b[0m \u001b[32m━━━━━━━━━━━━━━━━━━━━\u001b[0m\u001b[37m\u001b[0m \u001b[1m83s\u001b[0m 264ms/step - accuracy: 0.4509 - loss: 0.9398 - val_accuracy: 0.4507 - val_loss: 0.9432\n"
          ]
        },
        {
          "output_type": "execute_result",
          "data": {
            "text/plain": [
              "<keras.src.callbacks.history.History at 0x7cbd7cea1c90>"
            ]
          },
          "metadata": {},
          "execution_count": 35
        }
      ]
    },
    {
      "cell_type": "markdown",
      "source": [
        "italik metinThis code builds and trains an LSTM model for text classification:\n",
        "\n",
        "1. **Model Layers:**\n",
        "   - **Embedding:** Converts words to 128-dimensional vectors.\n",
        "   - **LSTM:** Processes sequences with 128 units.\n",
        "   - **Dropout:** Regularizes with 20% dropout.\n",
        "   - **Dense:** Outputs 3 classes with softmax activation.\n",
        "\n",
        "2. **Compilation:**  \n",
        "   - **Loss:** Sparse categorical crossentropy.\n",
        "   - **Optimizer:** Adam.\n",
        "   - **Metrics:** Accuracy.\n",
        "\n",
        "3. **Training:**  \n",
        "   - The model is trained for 5 epochs using the training data and validated on the test data.\n",
        "\n"
      ],
      "metadata": {
        "id": "un4dAq3wpyCs"
      }
    },
    {
      "cell_type": "code",
      "source": [
        " # LSTM modelinin doğruluğunu test etme\n",
        "y_pred_lstm = model_lstm.predict(X_test_seq)\n",
        "y_pred_classes_lstm = y_pred_lstm.argmax(axis=1)\n",
        "\n",
        "# Sonuçları değerlendirme\n",
        "print(\"LSTM Accuracy:\", accuracy_score(y_test, y_pred_classes_lstm))\n",
        "print(classification_report(y_test, y_pred_classes_lstm))\n"
      ],
      "metadata": {
        "colab": {
          "base_uri": "https://localhost:8080/"
        },
        "id": "4UvYcCBiZJuG",
        "outputId": "92278d20-153b-493c-f162-f445e0c6d429"
      },
      "execution_count": null,
      "outputs": [
        {
          "output_type": "stream",
          "name": "stdout",
          "text": [
            "\u001b[1m143/143\u001b[0m \u001b[32m━━━━━━━━━━━━━━━━━━━━\u001b[0m\u001b[37m\u001b[0m \u001b[1m14s\u001b[0m 94ms/step\n",
            "LSTM Accuracy: 0.45067018237749945\n",
            "              precision    recall  f1-score   support\n",
            "\n",
            "           0       0.00      0.00      0.00      2065\n",
            "           1       0.45      1.00      0.62      2051\n",
            "           2       0.00      0.00      0.00       435\n",
            "\n",
            "    accuracy                           0.45      4551\n",
            "   macro avg       0.15      0.33      0.21      4551\n",
            "weighted avg       0.20      0.45      0.28      4551\n",
            "\n"
          ]
        },
        {
          "output_type": "stream",
          "name": "stderr",
          "text": [
            "/usr/local/lib/python3.10/dist-packages/sklearn/metrics/_classification.py:1565: UndefinedMetricWarning: Precision is ill-defined and being set to 0.0 in labels with no predicted samples. Use `zero_division` parameter to control this behavior.\n",
            "  _warn_prf(average, modifier, f\"{metric.capitalize()} is\", len(result))\n",
            "/usr/local/lib/python3.10/dist-packages/sklearn/metrics/_classification.py:1565: UndefinedMetricWarning: Precision is ill-defined and being set to 0.0 in labels with no predicted samples. Use `zero_division` parameter to control this behavior.\n",
            "  _warn_prf(average, modifier, f\"{metric.capitalize()} is\", len(result))\n",
            "/usr/local/lib/python3.10/dist-packages/sklearn/metrics/_classification.py:1565: UndefinedMetricWarning: Precision is ill-defined and being set to 0.0 in labels with no predicted samples. Use `zero_division` parameter to control this behavior.\n",
            "  _warn_prf(average, modifier, f\"{metric.capitalize()} is\", len(result))\n"
          ]
        }
      ]
    },
    {
      "cell_type": "markdown",
      "source": [
        "This code evaluates the performance of the LSTM model:\n",
        "\n",
        "1. **Prediction:**  \n",
        "   `y_pred_lstm = model_lstm.predict(X_test_seq)` generates the predicted probabilities for the test data.  \n",
        "   `y_pred_classes_lstm = y_pred_lstm.argmax(axis=1)` converts these probabilities to predicted class labels by selecting the class with the highest probability.\n",
        "\n",
        "2. **Evaluation:**\n",
        "   - **Accuracy:**  \n",
        "     `accuracy_score(y_test, y_pred_classes_lstm)` computes the accuracy of the model by comparing the predicted labels (`y_pred_classes_lstm`) to the true labels (`y_test`).\n",
        "   - **Classification Report:**  \n",
        "     `classification_report(y_test, y_pred_classes_lstm)` provides a detailed performance report, including precision, recall, F1-score, and support for each class.\n",
        "\n",
        "The model's performance metrics are printed for evaluation."
      ],
      "metadata": {
        "id": "uOSp4F2LrBCc"
      }
    },
    {
      "cell_type": "code",
      "source": [
        "class_weights = {0: 1, 1: 0.5, 2: 2}  # Sınıf ağırlıklarını ayarlayın\n",
        "model_lstm.fit(X_train_seq, y_train, epochs=5, batch_size=64, validation_data=(X_test_seq, y_test), class_weight=class_weights)\n"
      ],
      "metadata": {
        "colab": {
          "base_uri": "https://localhost:8080/"
        },
        "id": "sDodIQ5Ea5JT",
        "outputId": "e4b848f4-ee8d-4d74-b8ca-e53f17a0b808"
      },
      "execution_count": null,
      "outputs": [
        {
          "output_type": "stream",
          "name": "stdout",
          "text": [
            "Epoch 1/5\n",
            "\u001b[1m166/166\u001b[0m \u001b[32m━━━━━━━━━━━━━━━━━━━━\u001b[0m\u001b[37m\u001b[0m \u001b[1m52s\u001b[0m 299ms/step - accuracy: 0.4560 - loss: 0.8991 - val_accuracy: 0.4537 - val_loss: 1.0481\n",
            "Epoch 2/5\n",
            "\u001b[1m166/166\u001b[0m \u001b[32m━━━━━━━━━━━━━━━━━━━━\u001b[0m\u001b[37m\u001b[0m \u001b[1m43s\u001b[0m 262ms/step - accuracy: 0.4721 - loss: 0.8747 - val_accuracy: 0.4537 - val_loss: 1.0336\n",
            "Epoch 3/5\n",
            "\u001b[1m166/166\u001b[0m \u001b[32m━━━━━━━━━━━━━━━━━━━━\u001b[0m\u001b[37m\u001b[0m \u001b[1m82s\u001b[0m 259ms/step - accuracy: 0.4658 - loss: 0.8735 - val_accuracy: 0.4537 - val_loss: 1.0486\n",
            "Epoch 4/5\n",
            "\u001b[1m166/166\u001b[0m \u001b[32m━━━━━━━━━━━━━━━━━━━━\u001b[0m\u001b[37m\u001b[0m \u001b[1m44s\u001b[0m 266ms/step - accuracy: 0.4639 - loss: 0.8701 - val_accuracy: 0.4537 - val_loss: 1.0549\n",
            "Epoch 5/5\n",
            "\u001b[1m166/166\u001b[0m \u001b[32m━━━━━━━━━━━━━━━━━━━━\u001b[0m\u001b[37m\u001b[0m \u001b[1m82s\u001b[0m 267ms/step - accuracy: 0.4578 - loss: 0.8790 - val_accuracy: 0.4537 - val_loss: 1.0482\n"
          ]
        },
        {
          "output_type": "execute_result",
          "data": {
            "text/plain": [
              "<keras.src.callbacks.history.History at 0x7cbd68d5a3e0>"
            ]
          },
          "metadata": {},
          "execution_count": 37
        }
      ]
    },
    {
      "cell_type": "markdown",
      "source": [
        "This code trains an LSTM model with class weights `{0: 1, 1: 0.5, 2: 2}` to handle class imbalance. It uses 5 epochs, a batch size of 64, and evaluates performance with validation data. The `class_weight` parameter adjusts the loss calculation based on class importance."
      ],
      "metadata": {
        "id": "kFIDFDCSu3HU"
      }
    },
    {
      "cell_type": "code",
      "source": [
        "from tensorflow.keras.layers import LSTM, Bidirectional\n"
      ],
      "metadata": {
        "id": "f7CGqSz1cwFS"
      },
      "execution_count": null,
      "outputs": []
    },
    {
      "cell_type": "code",
      "source": [
        "from tensorflow.keras.models import Sequential\n",
        "from tensorflow.keras.layers import LSTM, Bidirectional, Embedding, Dense\n",
        "from tensorflow.keras.optimizers import Adam\n",
        "\n",
        "# Modeli oluştur\n",
        "model_lstm = Sequential()\n",
        "model_lstm.add(Embedding(input_dim=tokenizer.num_words, output_dim=128, input_length=X_train_seq.shape[1]))\n",
        "model_lstm.add(Bidirectional(LSTM(128, dropout=0.3, recurrent_dropout=0.3)))  # Bidirectional LSTM ekleyin\n",
        "model_lstm.add(Dense(3, activation='softmax'))\n",
        "\n",
        "# Modeli derle\n",
        "optimizer = Adam(learning_rate=0.0005)\n",
        "model_lstm.compile(optimizer=optimizer, loss='sparse_categorical_crossentropy', metrics=['accuracy'])\n",
        "\n",
        "# Modeli eğit\n",
        "model_lstm.fit(X_train_seq, y_train, epochs=5, batch_size=64, validation_data=(X_test_seq, y_test))\n"
      ],
      "metadata": {
        "colab": {
          "base_uri": "https://localhost:8080/"
        },
        "id": "YTsFI1zhc_A0",
        "outputId": "0675d647-44f9-42ad-cc7c-712e7fd0ac8b"
      },
      "execution_count": null,
      "outputs": [
        {
          "output_type": "stream",
          "name": "stdout",
          "text": [
            "Epoch 1/5\n",
            "\u001b[1m166/166\u001b[0m \u001b[32m━━━━━━━━━━━━━━━━━━━━\u001b[0m\u001b[37m\u001b[0m \u001b[1m97s\u001b[0m 541ms/step - accuracy: 0.6139 - loss: 0.8428 - val_accuracy: 0.8521 - val_loss: 0.4068\n",
            "Epoch 2/5\n",
            "\u001b[1m166/166\u001b[0m \u001b[32m━━━━━━━━━━━━━━━━━━━━\u001b[0m\u001b[37m\u001b[0m \u001b[1m135s\u001b[0m 502ms/step - accuracy: 0.8624 - loss: 0.3772 - val_accuracy: 0.8699 - val_loss: 0.3329\n",
            "Epoch 3/5\n",
            "\u001b[1m166/166\u001b[0m \u001b[32m━━━━━━━━━━━━━━━━━━━━\u001b[0m\u001b[37m\u001b[0m \u001b[1m143s\u001b[0m 508ms/step - accuracy: 0.8994 - loss: 0.2668 - val_accuracy: 0.8851 - val_loss: 0.3027\n",
            "Epoch 4/5\n",
            "\u001b[1m166/166\u001b[0m \u001b[32m━━━━━━━━━━━━━━━━━━━━\u001b[0m\u001b[37m\u001b[0m \u001b[1m85s\u001b[0m 516ms/step - accuracy: 0.9236 - loss: 0.2124 - val_accuracy: 0.8910 - val_loss: 0.3139\n",
            "Epoch 5/5\n",
            "\u001b[1m166/166\u001b[0m \u001b[32m━━━━━━━━━━━━━━━━━━━━\u001b[0m\u001b[37m\u001b[0m \u001b[1m86s\u001b[0m 516ms/step - accuracy: 0.9436 - loss: 0.1813 - val_accuracy: 0.8904 - val_loss: 0.3184\n"
          ]
        },
        {
          "output_type": "execute_result",
          "data": {
            "text/plain": [
              "<keras.src.callbacks.history.History at 0x7cbd788d6b90>"
            ]
          },
          "metadata": {},
          "execution_count": 41
        }
      ]
    },
    {
      "cell_type": "markdown",
      "source": [
        "This code builds and trains a **Bidirectional LSTM model**:\n",
        "\n",
        "1. **Model Layers:**\n",
        "   - **Embedding:** Converts words to 128-dimensional vectors.\n",
        "   - **Bidirectional LSTM:** Processes sequences in both directions with 128 units, using dropout for regularization.\n",
        "   - **Dense (Softmax):** Outputs 3 classes with softmax activation.\n",
        "\n",
        "2. **Compilation:**\n",
        "   - **Optimizer:** Adam with a learning rate of 0.0005.\n",
        "   - **Loss Function:** Sparse categorical crossentropy.\n",
        "   - **Metrics:** Accuracy.\n",
        "\n",
        "3. **Training:**  \n",
        "   Trains the model for 5 epochs with a batch size of 64 and validates on the test set."
      ],
      "metadata": {
        "id": "EDSdFqKOvDvl"
      }
    },
    {
      "cell_type": "code",
      "source": [
        "# Test verisini sayısal verilere dönüştürme\n",
        "X_test_seq_new = pad_sequences(tokenizer.texts_to_sequences(X_test), padding='post', maxlen=100)\n"
      ],
      "metadata": {
        "id": "5RPJeV2QhXup"
      },
      "execution_count": null,
      "outputs": []
    },
    {
      "cell_type": "code",
      "source": [
        "\n",
        "import numpy as np\n",
        "\n",
        "# Model ile tahmin yapma\n",
        "y_pred = model_lstm.predict(X_test_seq_new)\n",
        "\n",
        "# Tahmin sonuçlarını sınıflara dönüştürme\n",
        "y_pred_classes = np.argmax(y_pred, axis=1)\n"
      ],
      "metadata": {
        "colab": {
          "base_uri": "https://localhost:8080/"
        },
        "id": "tdE1Ex-zh4BK",
        "outputId": "4a307424-6bae-477e-c484-a77b4a9c100f"
      },
      "execution_count": null,
      "outputs": [
        {
          "output_type": "stream",
          "name": "stdout",
          "text": [
            "\u001b[1m143/143\u001b[0m \u001b[32m━━━━━━━━━━━━━━━━━━━━\u001b[0m\u001b[37m\u001b[0m \u001b[1m15s\u001b[0m 108ms/step\n"
          ]
        }
      ]
    },
    {
      "cell_type": "markdown",
      "source": [
        "This code performs prediction using the trained **Bidirectional LSTM model**:\n",
        "\n",
        "1. **Prediction:**  \n",
        "   `y_pred = model_lstm.predict(X_test_seq_new)` uses the model to predict probabilities for the test data (`X_test_seq_new`).\n",
        "\n",
        "2. **Converting to Class Labels:**  \n",
        "   `y_pred_classes = np.argmax(y_pred, axis=1)` converts the predicted probabilities into class labels by selecting the class with the highest probability for each prediction.\n",
        "\n",
        "The result is `y_pred_classes`, which contains the predicted class labels for the test set."
      ],
      "metadata": {
        "id": "cQifqkZ3rycm"
      }
    },
    {
      "cell_type": "code",
      "source": [
        "from sklearn.metrics import classification_report\n",
        "\n",
        "# Gerçek değerler ile tahmin edilen değerleri karşılaştırarak metrikleri hesaplayalım\n",
        "print(classification_report(y_test, y_pred_classes))\n"
      ],
      "metadata": {
        "colab": {
          "base_uri": "https://localhost:8080/"
        },
        "id": "m9KQXE6gh52D",
        "outputId": "28ae50f3-bc69-4a29-e614-336bdc8c6815"
      },
      "execution_count": null,
      "outputs": [
        {
          "output_type": "stream",
          "name": "stdout",
          "text": [
            "              precision    recall  f1-score   support\n",
            "\n",
            "           0       0.91      0.94      0.93      2065\n",
            "           1       0.92      0.92      0.92      2051\n",
            "           2       0.60      0.48      0.53       435\n",
            "\n",
            "    accuracy                           0.89      4551\n",
            "   macro avg       0.81      0.78      0.79      4551\n",
            "weighted avg       0.88      0.89      0.89      4551\n",
            "\n"
          ]
        }
      ]
    },
    {
      "cell_type": "markdown",
      "source": [],
      "metadata": {
        "id": "MRFLfy3zssKC"
      }
    },
    {
      "cell_type": "markdown",
      "source": [
        "In the code, I first trained the LSTM model and then made predictions, comparing them with the true labels. I used the classification_report function to calculate precision, recall, and F1-score metrics for each class. The model performed well for the positive and negative classes (0 and 1), but gave lower recall and precision values for the neutral class (2). These results indicate that the model struggles to correctly identify the neutral class. To improve performance, class weights can be adjusted, or data augmentation techniques can be applied."
      ],
      "metadata": {
        "id": "TdJL_v1hssOs"
      }
    },
    {
      "cell_type": "code",
      "source": [
        "# History içeriğini kontrol et\n",
        "print(history.history.keys())\n"
      ],
      "metadata": {
        "colab": {
          "base_uri": "https://localhost:8080/"
        },
        "id": "THzqElGkiVSZ",
        "outputId": "dc0729eb-4b75-4227-c7e2-17b2c7181bf9"
      },
      "execution_count": null,
      "outputs": [
        {
          "output_type": "stream",
          "name": "stdout",
          "text": [
            "dict_keys([])\n"
          ]
        }
      ]
    },
    {
      "cell_type": "code",
      "source": [
        "model_lstm.compile(optimizer='adam', loss='sparse_categorical_crossentropy', metrics=['accuracy'])\n"
      ],
      "metadata": {
        "id": "hTqMpVi_izg5"
      },
      "execution_count": null,
      "outputs": []
    },
    {
      "cell_type": "code",
      "source": [
        "\n",
        "print(history.history.keys())"
      ],
      "metadata": {
        "colab": {
          "base_uri": "https://localhost:8080/"
        },
        "id": "3faexaFki1nU",
        "outputId": "a6cd21eb-5aa1-4b05-899e-ba8b3561fb6e"
      },
      "execution_count": null,
      "outputs": [
        {
          "output_type": "stream",
          "name": "stdout",
          "text": [
            "dict_keys([])\n"
          ]
        }
      ]
    },
    {
      "cell_type": "code",
      "source": [
        "history = model_lstm.fit(X_train_seq, y_train, epochs=5, batch_size=32, validation_data=(X_test_seq, y_test))\n"
      ],
      "metadata": {
        "colab": {
          "base_uri": "https://localhost:8080/"
        },
        "id": "_602IKbYi-Vr",
        "outputId": "3800b26e-ad25-4ce3-f932-828f284306a5"
      },
      "execution_count": null,
      "outputs": [
        {
          "output_type": "stream",
          "name": "stdout",
          "text": [
            "Epoch 1/5\n",
            "\u001b[1m332/332\u001b[0m \u001b[32m━━━━━━━━━━━━━━━━━━━━\u001b[0m\u001b[37m\u001b[0m \u001b[1m138s\u001b[0m 397ms/step - accuracy: 0.9449 - loss: 0.1558 - val_accuracy: 0.8877 - val_loss: 0.3293\n",
            "Epoch 2/5\n",
            "\u001b[1m332/332\u001b[0m \u001b[32m━━━━━━━━━━━━━━━━━━━━\u001b[0m\u001b[37m\u001b[0m \u001b[1m137s\u001b[0m 385ms/step - accuracy: 0.9538 - loss: 0.1326 - val_accuracy: 0.8923 - val_loss: 0.3444\n",
            "Epoch 3/5\n",
            "\u001b[1m332/332\u001b[0m \u001b[32m━━━━━━━━━━━━━━━━━━━━\u001b[0m\u001b[37m\u001b[0m \u001b[1m129s\u001b[0m 389ms/step - accuracy: 0.9640 - loss: 0.1131 - val_accuracy: 0.8877 - val_loss: 0.4116\n",
            "Epoch 4/5\n",
            "\u001b[1m332/332\u001b[0m \u001b[32m━━━━━━━━━━━━━━━━━━━━\u001b[0m\u001b[37m\u001b[0m \u001b[1m137s\u001b[0m 413ms/step - accuracy: 0.9697 - loss: 0.0962 - val_accuracy: 0.8895 - val_loss: 0.3995\n",
            "Epoch 5/5\n",
            "\u001b[1m332/332\u001b[0m \u001b[32m━━━━━━━━━━━━━━━━━━━━\u001b[0m\u001b[37m\u001b[0m \u001b[1m134s\u001b[0m 390ms/step - accuracy: 0.9766 - loss: 0.0747 - val_accuracy: 0.8822 - val_loss: 0.4013\n"
          ]
        }
      ]
    },
    {
      "cell_type": "markdown",
      "source": [
        "This line of code trains the **LSTM model** (`model_lstm`) on the training data:\n",
        "\n",
        "- `X_train_seq`: The tokenized and padded training data.\n",
        "- `y_train`: The true labels for the training data.\n",
        "- `epochs=5`: The model will be trained for 5 epochs (iterations over the entire dataset).\n",
        "- `batch_size=32`: The model will be updated every 32 samples during training.\n",
        "- `validation_data=(X_test_seq, y_test)`: The model will evaluate performance on the test data after each epoch, allowing you to track validation loss and accuracy.\n",
        "\n",
        "The training process is stored in the `history` variable, which contains information such as loss and accuracy for both the training and validation datasets across all epochs. You can use `history` to visualize or analyze the model’s performance over time."
      ],
      "metadata": {
        "id": "i8GPvfRss4TT"
      }
    },
    {
      "cell_type": "code",
      "source": [
        "# Doğruluk grafiği\n",
        "plt.plot(history.history['accuracy'], label='Train Accuracy')\n",
        "plt.plot(history.history['val_accuracy'], label='Validation Accuracy')\n",
        "plt.xlabel('Epochs')\n",
        "plt.ylabel('Accuracy')\n",
        "plt.legend()\n",
        "plt.show()\n"
      ],
      "metadata": {
        "colab": {
          "base_uri": "https://localhost:8080/",
          "height": 449
        },
        "id": "pBqsagmsjDE-",
        "outputId": "cb985629-af7e-4452-895c-4e869338bd98"
      },
      "execution_count": null,
      "outputs": [
        {
          "output_type": "display_data",
          "data": {
            "text/plain": [
              "<Figure size 640x480 with 1 Axes>"
            ],
            "image/png": "[encoded data removed]"
          },
          "metadata": {}
        }
      ]
    },
    {
      "cell_type": "markdown",
      "source": [
        "This graph shows the accuracy rates of the model on training and validation data. The blue line represents the accuracy on training data, while the orange line shows the accuracy on validation data. As epochs progress, the training accuracy increases, while slight fluctuations are observed in validation accuracy. The graph was created using the above code with accuracy and val_accuracy values obtained from the model's history object."
      ],
      "metadata": {
        "id": "Y8tw5nBouFx4"
      }
    },
    {
      "cell_type": "markdown",
      "source": [],
      "metadata": {
        "id": "UvN6xtg6kue1"
      }
    },
    {
      "cell_type": "code",
      "source": [
        "yeni_yorum_1 = pd.Series(\"Çok güzel bir elbise, tam istediğim gibi. Kumaşı çok kaliteli ve rahat.\")  # Olumlu\n",
        "yeni_yorum_2 = pd.Series(\"Ürünün bedeni büyük, çok dar bir model olmalıydı.\")  # Olumsuz\n",
        "yeni_yorum_3 = pd.Series(\"Fiyat/performans açısından gayet iyi, ama biraz daha büyük olabilirdi.\")  # Nötr\n",
        "yeni_yorum_4 = pd.Series(\"Bu elbiseyi alalı bir hafta oldu, çok memnunum.\")  # Olumlu\n",
        "yeni_yorum_5 = pd.Series(\"Yaka kısmı biraz dar, ama yine de sevdim.\")  # Nötr\n",
        "yeni_yorum_6 = pd.Series(\"Beklediğimden çok daha kötü, iade edeceğim.\")  # Olumsuz\n"
      ],
      "metadata": {
        "id": "Z8GA5cj6mMEk"
      },
      "execution_count": null,
      "outputs": []
    },
    {
      "cell_type": "code",
      "source": [
        "# Yeni yorumları TF-IDF ile dönüştürüp tahmin yapalım\n",
        "yeni_yorum_1 = vectorizer.transform(yeni_yorum_1)\n",
        "print(\"Yeni Yorum 1 tahmini:\", nb_model_multi.predict(yeni_yorum_1))  # Olumlu\n",
        "\n",
        "yeni_yorum_2 = vectorizer.transform(yeni_yorum_2)\n",
        "print(\"Yeni Yorum 2 tahmini:\", nb_model_multi.predict(yeni_yorum_2))  # Olumsuz\n",
        "\n",
        "yeni_yorum_3 = vectorizer.transform(yeni_yorum_3)\n",
        "print(\"Yeni Yorum 3 tahmini:\", nb_model_multi.predict(yeni_yorum_3))  # Nötr\n",
        "\n",
        "yeni_yorum_4 = vectorizer.transform(yeni_yorum_4)\n",
        "print(\"Yeni Yorum 4 tahmini:\", nb_model_multi.predict(yeni_yorum_4))  # Olumlu\n",
        "\n",
        "yeni_yorum_5 = vectorizer.transform(yeni_yorum_5)\n",
        "print(\"Yeni Yorum 5 tahmini:\", nb_model_multi.predict(yeni_yorum_5))  # Nötr\n",
        "\n",
        "yeni_yorum_6 = vectorizer.transform(yeni_yorum_6)\n",
        "print(\"Yeni Yorum 6 tahmini:\", nb_model_multi.predict(yeni_yorum_6))  # Olumsuz\n"
      ],
      "metadata": {
        "colab": {
          "base_uri": "https://localhost:8080/"
        },
        "id": "FFeW-fJ1mgTX",
        "outputId": "3772b139-f2f2-474b-b981-9d5b138d63b5"
      },
      "execution_count": null,
      "outputs": [
        {
          "output_type": "stream",
          "name": "stdout",
          "text": [
            "Yeni Yorum 1 tahmini: [1]\n",
            "Yeni Yorum 2 tahmini: [0]\n",
            "Yeni Yorum 3 tahmini: [1]\n",
            "Yeni Yorum 4 tahmini: [1]\n",
            "Yeni Yorum 5 tahmini: [0]\n",
            "Yeni Yorum 6 tahmini: [0]\n"
          ]
        }
      ]
    },
    {
      "cell_type": "markdown",
      "source": [
        "This code transforms new comments using TF-IDF and predicts their sentiment using the `nb_model_multi` classifier. Each comment is converted into numerical features with `vectorizer.transform` and classified as positive, negative, or neutral using `nb_model_multi.predict`. The predictions are then printed for each comment."
      ],
      "metadata": {
        "id": "rl2_IlMpuemi"
      }
    },
    {
      "cell_type": "code",
      "source": [
        "# Nötr yorum örneği\n",
        "nötr_yorum = pd.Series(\"Ürün ortalama, herhangi bir sorun yok ama çok da övgüye değer değil.\")  # Nötr\n",
        "\n",
        "# Yeni yorumu TF-IDF ile dönüştürüp tahmin yapalım\n",
        "nötr_yorum_tf_idf = vectorizer.transform(nötr_yorum)\n",
        "print(nb_model_multi.predict(nötr_yorum_tf_idf))  # Nötr (2) bekliyoruz\n"
      ],
      "metadata": {
        "colab": {
          "base_uri": "https://localhost:8080/"
        },
        "id": "plEyx2NDm5Ty",
        "outputId": "a767708b-bca1-475a-8018-9f2050e23b9b"
      },
      "execution_count": null,
      "outputs": [
        {
          "output_type": "stream",
          "name": "stdout",
          "text": [
            "[1]\n"
          ]
        }
      ]
    },
    {
      "cell_type": "code",
      "source": [],
      "metadata": {
        "id": "RldIKAkRm_5l"
      },
      "execution_count": null,
      "outputs": []
    }
  ]
}